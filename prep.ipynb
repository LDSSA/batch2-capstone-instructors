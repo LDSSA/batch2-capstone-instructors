{
 "cells": [
  {
   "cell_type": "code",
   "execution_count": 1,
   "metadata": {},
   "outputs": [],
   "source": [
    "import os"
   ]
  },
  {
   "cell_type": "code",
   "execution_count": 4,
   "metadata": {},
   "outputs": [
    {
     "name": "stdout",
     "output_type": "stream",
     "text": [
      "fars.tar.gz\r\n"
     ]
    }
   ],
   "source": [
    "! ls data/"
   ]
  },
  {
   "cell_type": "code",
   "execution_count": 2,
   "metadata": {},
   "outputs": [
    {
     "ename": "FileNotFoundError",
     "evalue": "[Errno 2] No such file or directory: 'data/fars.dat'",
     "output_type": "error",
     "traceback": [
      "\u001b[0;31m---------------------------------------------------------------------------\u001b[0m",
      "\u001b[0;31mFileNotFoundError\u001b[0m                         Traceback (most recent call last)",
      "\u001b[0;32m<ipython-input-2-0bc8235cff1b>\u001b[0m in \u001b[0;36m<module>\u001b[0;34m()\u001b[0m\n\u001b[1;32m      1\u001b[0m \u001b[0mcolnames\u001b[0m \u001b[0;34m=\u001b[0m \u001b[0;34m[\u001b[0m\u001b[0;34m]\u001b[0m\u001b[0;34m\u001b[0m\u001b[0m\n\u001b[1;32m      2\u001b[0m \u001b[0mnlines_with_at\u001b[0m \u001b[0;34m=\u001b[0m \u001b[0;36m0\u001b[0m\u001b[0;34m\u001b[0m\u001b[0m\n\u001b[0;32m----> 3\u001b[0;31m \u001b[0;32mwith\u001b[0m \u001b[0mopen\u001b[0m\u001b[0;34m(\u001b[0m\u001b[0;34m'data/fars.dat'\u001b[0m\u001b[0;34m)\u001b[0m \u001b[0;32mas\u001b[0m \u001b[0mfh\u001b[0m\u001b[0;34m:\u001b[0m\u001b[0;34m\u001b[0m\u001b[0m\n\u001b[0m\u001b[1;32m      4\u001b[0m     \u001b[0mline\u001b[0m \u001b[0;34m=\u001b[0m \u001b[0mfh\u001b[0m\u001b[0;34m.\u001b[0m\u001b[0mreadline\u001b[0m\u001b[0;34m(\u001b[0m\u001b[0;34m)\u001b[0m\u001b[0;34m\u001b[0m\u001b[0m\n\u001b[1;32m      5\u001b[0m     \u001b[0;32mwhile\u001b[0m \u001b[0mline\u001b[0m\u001b[0;34m.\u001b[0m\u001b[0mstartswith\u001b[0m\u001b[0;34m(\u001b[0m\u001b[0;34m'@'\u001b[0m\u001b[0;34m)\u001b[0m\u001b[0;34m:\u001b[0m\u001b[0;34m\u001b[0m\u001b[0m\n",
      "\u001b[0;31mFileNotFoundError\u001b[0m: [Errno 2] No such file or directory: 'data/fars.dat'"
     ]
    }
   ],
   "source": [
    "colnames = []\n",
    "nlines_with_at = 0\n",
    "with open('data/fars.dat') as fh:\n",
    "    line = fh.readline()\n",
    "    while line.startswith('@'):\n",
    "        nlines_with_at += 1\n",
    "        if line.startswith('@attribute'):\n",
    "            colnames.append(line.split(' ')[1])\n",
    "        line = fh.readline()"
   ]
  },
  {
   "cell_type": "code",
   "execution_count": 3,
   "metadata": {},
   "outputs": [
    {
     "data": {
      "text/plain": [
       "(0, [])"
      ]
     },
     "execution_count": 3,
     "metadata": {},
     "output_type": "execute_result"
    }
   ],
   "source": [
    "nlines_with_at, colnames"
   ]
  },
  {
   "cell_type": "code",
   "execution_count": 20,
   "metadata": {},
   "outputs": [
    {
     "data": {
      "text/plain": [
       "0"
      ]
     },
     "execution_count": 20,
     "metadata": {},
     "output_type": "execute_result"
    }
   ],
   "source": [
    "with open('data/fars.csv', 'w') as fh:\n",
    "    fh.write(','.join(colnames))\n",
    "    fh.write('\\n')\n",
    "# need nlines_with_at+1 because there is an @data that takes up one line\n",
    "os.system('tail -n +{} data/fars.dat >> data/fars.csv'.format(nlines_with_at + 1))"
   ]
  },
  {
   "cell_type": "code",
   "execution_count": 21,
   "metadata": {},
   "outputs": [
    {
     "name": "stdout",
     "output_type": "stream",
     "text": [
      "CASE_STATE,AGE,SEX,PERSON_TYPE,SEATING_POSITION,RESTRAINT_SYSTEM-USE,AIR_BAG_AVAILABILITY/DEPLOYMENT,EJECTION,EJECTION_PATH,EXTRICATION,NON_MOTORIST_LOCATION,POLICE_REPORTED_ALCOHOL_INVOLVEMENT,METHOD_ALCOHOL_DETERMINATION,ALCOHOL_TEST_TYPE,ALCOHOL_TEST_RESULT,POLICE-REPORTED_DRUG_INVOLVEMENT,METHOD_OF_DRUG_DETERMINATION,DRUG_TEST_TYPE_(1_of_3),DRUG_TEST_RESULTS_(1_of_3),DRUG_TEST_TYPE_(2_of_3),DRUG_TEST_RESULTS_(2_of_3),DRUG_TEST_TYPE_(3_of_3),DRUG_TEST_RESULTS_(3_of_3),HISPANIC_ORIGIN,TAKEN_TO_HOSPITAL,RELATED_FACTOR_(1)-PERSON_LEVEL,RELATED_FACTOR_(2)-PERSON_LEVEL,RELATED_FACTOR_(3)-PERSON_LEVEL,RACE,INJURY_SEVERITY\r\n",
      "Alabama,34,Male,Driver,Front_Seat_-_Left_Side_(Drivers_Side),None_Used/Not_Applicable,Air_Bag_Available_but_Not_Deployed_for_this_Seat,Totally_Ejected,Unknown,Not_Extricated,Not_Applicable_-_Vehicle_Occupant,Yes_(Alcohol_Involved),Not_Reported,Whole_Blood,97,Reported_Unknown,Not_Reported,Unknown_if_Tested_for_Drugs,999,Not_Tested_for_Drugs,000,Not_Tested_for_Drugs,000,Non-Hispanic,No,Not_Applicable_-_Driver/None_-_All_Other_Persons,Not_Applicable_-_Driver/None_-_All_Other_Persons,Not_Applicable_-_Driver/None_-_All_Other_Persons,White,Fatal_Injury\r",
      "\r\n",
      "Alabama,20,Male,Driver,Front_Seat_-_Left_Side_(Drivers_Side),None_Used/Not_Applicable,Deployed_Air_Bag_from_Front,Totally_Ejected,Unknown,Not_Extricated,Not_Applicable_-_Vehicle_Occupant,No_(Alcohol_Not_Involved),Not_Reported,Not_Tested_for_Alcohol,96,No_Drugs,Not_Reported,Not_Tested_for_Drugs,000,Not_Tested_for_Drugs,000,Not_Tested_for_Drugs,000,Non-Hispanic,No,Not_Applicable_-_Driver/None_-_All_Other_Persons,Not_Applicable_-_Driver/None_-_All_Other_Persons,Not_Applicable_-_Driver/None_-_All_Other_Persons,White,Fatal_Injury\r",
      "\r\n",
      "Alabama,43,Male,Driver,Front_Seat_-_Left_Side_(Drivers_Side),Lap_and_Shoulder_Belt,Air_Bag_Not_Available_for_this_Seat,Not_Ejected,Not_Ejected/Not_Applicable,Extricated,Not_Applicable_-_Vehicle_Occupant,No_(Alcohol_Not_Involved),Not_Reported,Not_Tested_for_Alcohol,96,No_Drugs,Not_Reported,Not_Tested_for_Drugs,000,Not_Tested_for_Drugs,000,Not_Tested_for_Drugs,000,Non-Hispanic,No,Not_Applicable_-_Driver/None_-_All_Other_Persons,Not_Applicable_-_Driver/None_-_All_Other_Persons,Not_Applicable_-_Driver/None_-_All_Other_Persons,Black,Fatal_Injury\r",
      "\r\n",
      "Alabama,38,Female,Passenger_of_a_Motor_Vehicle_in_Transport,Front_Seat_-_Right_Side,Lap_and_Shoulder_Belt,Air_Bag_Not_Available_for_this_Seat,Not_Ejected,Not_Ejected/Not_Applicable,Extricated,Not_Applicable_-_Vehicle_Occupant,Not_reported,Not_Reported,Not_Tested_for_Alcohol,96,Not_Reported,Not_Reported,Not_Tested_for_Drugs,000,Not_Tested_for_Drugs,000,Not_Tested_for_Drugs,000,Not_a_Fatality_(Not_Applicable),Yes,Not_Applicable_-_Driver/None_-_All_Other_Persons,Not_Applicable_-_Driver/None_-_All_Other_Persons,Not_Applicable_-_Driver/None_-_All_Other_Persons,Not_a_Fatality_(Not_Applicable),Incapaciting_Injury\r",
      "\r\n",
      "Alabama,50,Male,Driver,Front_Seat_-_Left_Side_(Drivers_Side),Lap_and_Shoulder_Belt,Deployed_Air_Bag_from_Front,Not_Ejected,Not_Ejected/Not_Applicable,Not_Extricated,Not_Applicable_-_Vehicle_Occupant,Yes_(Alcohol_Involved),Not_Reported,Whole_Blood,97,Reported_Unknown,Not_Reported,Unknown_if_Tested_for_Drugs,999,Not_Tested_for_Drugs,000,Not_Tested_for_Drugs,000,Non-Hispanic,Yes,Not_Applicable_-_Driver/None_-_All_Other_Persons,Not_Applicable_-_Driver/None_-_All_Other_Persons,Not_Applicable_-_Driver/None_-_All_Other_Persons,Black,Fatal_Injury\r",
      "\r\n",
      "Alabama,40,Female,Driver,Front_Seat_-_Left_Side_(Drivers_Side),Lap_and_Shoulder_Belt,Air_Bag_Not_Available_for_this_Seat,Not_Ejected,Not_Ejected/Not_Applicable,Not_Extricated,Not_Applicable_-_Vehicle_Occupant,No_(Alcohol_Not_Involved),Not_Reported,Not_Tested_for_Alcohol,96,No_Drugs,Not_Reported,Not_Tested_for_Drugs,000,Not_Tested_for_Drugs,000,Not_Tested_for_Drugs,000,Not_a_Fatality_(Not_Applicable),Yes,Not_Applicable_-_Driver/None_-_All_Other_Persons,Not_Applicable_-_Driver/None_-_All_Other_Persons,Not_Applicable_-_Driver/None_-_All_Other_Persons,Not_a_Fatality_(Not_Applicable),Incapaciting_Injury\r",
      "\r\n",
      "Alabama,50,Male,Driver,Front_Seat_-_Left_Side_(Drivers_Side),None_Used/Not_Applicable,Air_Bag_Not_Available_for_this_Seat,Not_Ejected,Not_Ejected/Not_Applicable,Not_Extricated,Not_Applicable_-_Vehicle_Occupant,No_(Alcohol_Not_Involved),Not_Reported,Not_Tested_for_Alcohol,96,No_Drugs,Not_Reported,Not_Tested_for_Drugs,000,Not_Tested_for_Drugs,000,Not_Tested_for_Drugs,000,Not_a_Fatality_(Not_Applicable),No,Not_Applicable_-_Driver/None_-_All_Other_Persons,Not_Applicable_-_Driver/None_-_All_Other_Persons,Not_Applicable_-_Driver/None_-_All_Other_Persons,Not_a_Fatality_(Not_Applicable),No_Injury\r",
      "\r\n",
      "Alabama,69,Female,Passenger_of_a_Motor_Vehicle_in_Transport,Front_Seat_-_Right_Side,None_Used/Not_Applicable,Air_Bag_Not_Available_for_this_Seat,Totally_Ejected,Unknown,Not_Extricated,Not_Applicable_-_Vehicle_Occupant,Not_reported,Not_Reported,Unknown(Not_Reported_Since_2001),99,Not_Reported,Not_Reported,Unknown_if_Tested_for_Drugs,999,Not_Tested_for_Drugs,000,Not_Tested_for_Drugs,000,Non-Hispanic,No,Not_Applicable_-_Driver/None_-_All_Other_Persons,Not_Applicable_-_Driver/None_-_All_Other_Persons,Not_Applicable_-_Driver/None_-_All_Other_Persons,Black,Fatal_Injury\r",
      "\r\n",
      "Alabama,94,Male,Pedestrian,Non-Motorist,None_Used/Not_Applicable,Non-Motorist,Not_Ejected,Not_Ejected/Not_Applicable,Not_Extricated,Non-Intersection_-_On_Roadway_Crosswalk_not_Available,No_(Alcohol_Not_Involved),Not_Reported,Whole_Blood,97,Reported_Unknown,Not_Reported,Unknown_if_Tested_for_Drugs,999,Not_Tested_for_Drugs,000,Not_Tested_for_Drugs,000,Non-Hispanic,No,Walking/Riding_with_or_Against_Traffic_Playing_Working_Sitting_Lying_Standing_etc._in_Roadway,Not_Applicable_-_Driver/None_-_All_Other_Persons,Not_Applicable_-_Driver/None_-_All_Other_Persons,White,Fatal_Injury\r",
      "\r\n",
      "Alabama,47,Male,Driver,Front_Seat_-_Left_Side_(Drivers_Side),Lap_and_Shoulder_Belt,Air_Bag_Not_Available_for_this_Seat,Not_Ejected,Not_Ejected/Not_Applicable,Not_Extricated,Not_Applicable_-_Vehicle_Occupant,No_(Alcohol_Not_Involved),Not_Reported,Whole_Blood,00,Reported_Unknown,Not_Reported,Both:_Blood_and_Urine_(Since_1993),001,Not_Tested_for_Drugs,000,Not_Tested_for_Drugs,000,Not_a_Fatality_(Not_Applicable),No,Not_Applicable_-_Driver/None_-_All_Other_Persons,Not_Applicable_-_Driver/None_-_All_Other_Persons,Not_Applicable_-_Driver/None_-_All_Other_Persons,Not_a_Fatality_(Not_Applicable),No_Injury\r",
      "\r\n",
      "Alabama,22,Male,Driver,Front_Seat_-_Left_Side_(Drivers_Side),None_Used/Not_Applicable,Deployed_Air_Bag_from_Front,Not_Ejected,Not_Ejected/Not_Applicable,Not_Extricated,Not_Applicable_-_Vehicle_Occupant,No_(Alcohol_Not_Involved),Not_Reported,Not_Tested_for_Alcohol,96,No_Drugs,Not_Reported,Not_Tested_for_Drugs,000,Not_Tested_for_Drugs,000,Not_Tested_for_Drugs,000,Not_a_Fatality_(Not_Applicable),No,Not_Applicable_-_Driver/None_-_All_Other_Persons,Not_Applicable_-_Driver/None_-_All_Other_Persons,Not_Applicable_-_Driver/None_-_All_Other_Persons,Not_a_Fatality_(Not_Applicable),No_Injury\r",
      "\r\n",
      "Alabama,55,Female,Driver,Front_Seat_-_Left_Side_(Drivers_Side),Lap_and_Shoulder_Belt,Air_Bag_Available_but_Not_Deployed_for_this_Seat,Not_Ejected,Not_Ejected/Not_Applicable,Not_Extricated,Not_Applicable_-_Vehicle_Occupant,No_(Alcohol_Not_Involved),Not_Reported,Whole_Blood,97,No_Drugs,Not_Reported,Unknown_if_Tested_for_Drugs,999,Not_Tested_for_Drugs,000,Not_Tested_for_Drugs,000,Mexican,Yes,Not_Applicable_-_Driver/None_-_All_Other_Persons,Not_Applicable_-_Driver/None_-_All_Other_Persons,Not_Applicable_-_Driver/None_-_All_Other_Persons,Black,Fatal_Injury\r",
      "\r\n",
      "Alabama,18,Male,Driver,Front_Seat_-_Left_Side_(Drivers_Side),Lap_and_Shoulder_Belt,Air_Bag_Available_but_Not_Deployed_for_this_Seat,Not_Ejected,Not_Ejected/Not_Applicable,Not_Extricated,Not_Applicable_-_Vehicle_Occupant,No_(Alcohol_Not_Involved),Not_Reported,Not_Tested_for_Alcohol,96,No_Drugs,Not_Reported,Not_Tested_for_Drugs,000,Not_Tested_for_Drugs,000,Not_Tested_for_Drugs,000,Non-Hispanic,Yes,Not_Applicable_-_Driver/None_-_All_Other_Persons,Not_Applicable_-_Driver/None_-_All_Other_Persons,Not_Applicable_-_Driver/None_-_All_Other_Persons,White,Fatal_Injury\r",
      "\r\n",
      "Alabama,29,Male,Driver,Front_Seat_-_Left_Side_(Drivers_Side),Lap_and_Shoulder_Belt,Air_Bag_Not_Available_for_this_Seat,Not_Ejected,Not_Ejected/Not_Applicable,Not_Extricated,Not_Applicable_-_Vehicle_Occupant,No_(Alcohol_Not_Involved),Not_Reported,Not_Tested_for_Alcohol,96,No_Drugs,Not_Reported,Not_Tested_for_Drugs,000,Not_Tested_for_Drugs,000,Not_Tested_for_Drugs,000,Not_a_Fatality_(Not_Applicable),Yes,Not_Applicable_-_Driver/None_-_All_Other_Persons,Not_Applicable_-_Driver/None_-_All_Other_Persons,Not_Applicable_-_Driver/None_-_All_Other_Persons,Not_a_Fatality_(Not_Applicable),Incapaciting_Injury\r",
      "\r\n",
      "Alabama,31,Female,Driver,Front_Seat_-_Left_Side_(Drivers_Side),Lap_and_Shoulder_Belt,Air_Bag_Not_Available_for_this_Seat,Not_Ejected,Not_Ejected/Not_Applicable,Not_Extricated,Not_Applicable_-_Vehicle_Occupant,No_(Alcohol_Not_Involved),Not_Reported,Whole_Blood,00,No_Drugs,Not_Reported,Unknown_if_Tested_for_Drugs,999,Not_Tested_for_Drugs,000,Not_Tested_for_Drugs,000,Non-Hispanic,No,Not_Applicable_-_Driver/None_-_All_Other_Persons,Not_Applicable_-_Driver/None_-_All_Other_Persons,Not_Applicable_-_Driver/None_-_All_Other_Persons,White,Fatal_Injury\r",
      "\r\n",
      "Alabama,26,Male,Passenger_of_a_Motor_Vehicle_in_Transport,Front_Seat_-_Right_Side,Lap_and_Shoulder_Belt,Air_Bag_Not_Available_for_this_Seat,Not_Ejected,Not_Ejected/Not_Applicable,Not_Extricated,Not_Applicable_-_Vehicle_Occupant,Not_reported,Not_Reported,Not_Tested_for_Alcohol,96,Not_Reported,Not_Reported,Not_Tested_for_Drugs,000,Not_Tested_for_Drugs,000,Not_Tested_for_Drugs,000,Not_a_Fatality_(Not_Applicable),Yes,Not_Applicable_-_Driver/None_-_All_Other_Persons,Not_Applicable_-_Driver/None_-_All_Other_Persons,Not_Applicable_-_Driver/None_-_All_Other_Persons,Not_a_Fatality_(Not_Applicable),Incapaciting_Injury\r",
      "\r\n",
      "Alabama,41,Female,Driver,Front_Seat_-_Left_Side_(Drivers_Side),Lap_and_Shoulder_Belt,Air_Bag_Not_Available_for_this_Seat,Not_Ejected,Not_Ejected/Not_Applicable,Not_Extricated,Not_Applicable_-_Vehicle_Occupant,No_(Alcohol_Not_Involved),Not_Reported,Whole_Blood,00,No_Drugs,Not_Reported,Unknown_if_Tested_for_Drugs,999,Not_Tested_for_Drugs,000,Not_Tested_for_Drugs,000,Not_a_Fatality_(Not_Applicable),Yes,Not_Applicable_-_Driver/None_-_All_Other_Persons,Not_Applicable_-_Driver/None_-_All_Other_Persons,Not_Applicable_-_Driver/None_-_All_Other_Persons,Not_a_Fatality_(Not_Applicable),Incapaciting_Injury\r",
      "\r\n",
      "Alabama,73,Female,Passenger_of_a_Motor_Vehicle_in_Transport,Front_Seat_-_Right_Side,Lap_and_Shoulder_Belt,Air_Bag_Not_Available_for_this_Seat,Not_Ejected,Not_Ejected/Not_Applicable,Not_Extricated,Not_Applicable_-_Vehicle_Occupant,Not_reported,Not_Reported,Unknown(Not_Reported_Since_2001),99,Not_Reported,Not_Reported,Unknown_if_Tested_for_Drugs,999,Not_Tested_for_Drugs,000,Not_Tested_for_Drugs,000,Non-Hispanic,No,Not_Applicable_-_Driver/None_-_All_Other_Persons,Not_Applicable_-_Driver/None_-_All_Other_Persons,Not_Applicable_-_Driver/None_-_All_Other_Persons,White,Fatal_Injury\r",
      "\r\n",
      "Alabama,60,Female,Driver,Front_Seat_-_Left_Side_(Drivers_Side),Lap_and_Shoulder_Belt,Deployed_Air_Bag_from_Front,Not_Ejected,Not_Ejected/Not_Applicable,Not_Extricated,Not_Applicable_-_Vehicle_Occupant,No_(Alcohol_Not_Involved),Not_Reported,Not_Tested_for_Alcohol,96,No_Drugs,Not_Reported,Not_Tested_for_Drugs,000,Not_Tested_for_Drugs,000,Not_Tested_for_Drugs,000,Non-Hispanic,Yes,Not_Applicable_-_Driver/None_-_All_Other_Persons,Not_Applicable_-_Driver/None_-_All_Other_Persons,Not_Applicable_-_Driver/None_-_All_Other_Persons,White,Fatal_Injury\r",
      "\r\n",
      "Alabama,62,Male,Passenger_of_a_Motor_Vehicle_in_Transport,Front_Seat_-_Right_Side,Lap_and_Shoulder_Belt,Deployed_Air_Bag_from_Front,Not_Ejected,Not_Ejected/Not_Applicable,Not_Extricated,Not_Applicable_-_Vehicle_Occupant,Not_reported,Not_Reported,Not_Tested_for_Alcohol,96,Not_Reported,Not_Reported,Not_Tested_for_Drugs,000,Not_Tested_for_Drugs,000,Not_Tested_for_Drugs,000,Not_a_Fatality_(Not_Applicable),Yes,Not_Applicable_-_Driver/None_-_All_Other_Persons,Not_Applicable_-_Driver/None_-_All_Other_Persons,Not_Applicable_-_Driver/None_-_All_Other_Persons,Not_a_Fatality_(Not_Applicable),Incapaciting_Injury\r",
      "\r\n",
      "Alabama,29,Male,Driver,Front_Seat_-_Left_Side_(Drivers_Side),Lap_and_Shoulder_Belt,Air_Bag_Not_Available_for_this_Seat,Not_Ejected,Not_Ejected/Not_Applicable,Not_Extricated,Not_Applicable_-_Vehicle_Occupant,No_(Alcohol_Not_Involved),Not_Reported,Not_Tested_for_Alcohol,96,No_Drugs,Not_Reported,Not_Tested_for_Drugs,000,Not_Tested_for_Drugs,000,Not_Tested_for_Drugs,000,Not_a_Fatality_(Not_Applicable),No,Not_Applicable_-_Driver/None_-_All_Other_Persons,Not_Applicable_-_Driver/None_-_All_Other_Persons,Not_Applicable_-_Driver/None_-_All_Other_Persons,Not_a_Fatality_(Not_Applicable),No_Injury\r",
      "\r\n",
      "Alabama,41,Male,Driver,Front_Seat_-_Left_Side_(Drivers_Side),None_Used/Not_Applicable,Air_Bag_Not_Available_for_this_Seat,Totally_Ejected,Unknown,Not_Extricated,Not_Applicable_-_Vehicle_Occupant,No_(Alcohol_Not_Involved),Not_Reported,Whole_Blood,00,No_Drugs,Not_Reported,Blood_Test,417,Not_Tested_for_Drugs,000,Not_Tested_for_Drugs,000,Non-Hispanic,No,Not_Applicable_-_Driver/None_-_All_Other_Persons,Not_Applicable_-_Driver/None_-_All_Other_Persons,Not_Applicable_-_Driver/None_-_All_Other_Persons,White,Fatal_Injury\r",
      "\r\n",
      "Alabama,40,Female,Driver,Front_Seat_-_Left_Side_(Drivers_Side),None_Used/Not_Applicable,Air_Bag_Not_Available_for_this_Seat,Totally_Ejected,Unknown,Not_Extricated,Not_Applicable_-_Vehicle_Occupant,No_(Alcohol_Not_Involved),Not_Reported,Whole_Blood,97,No_Drugs,Not_Reported,Unknown_if_Tested_for_Drugs,999,Not_Tested_for_Drugs,000,Not_Tested_for_Drugs,000,Unknown,Yes,Not_Applicable_-_Driver/None_-_All_Other_Persons,Not_Applicable_-_Driver/None_-_All_Other_Persons,Not_Applicable_-_Driver/None_-_All_Other_Persons,Unknown,Fatal_Injury\r",
      "\r\n",
      "Alabama,35,Female,Driver,Front_Seat_-_Left_Side_(Drivers_Side),None_Used/Not_Applicable,Air_Bag_Not_Available_for_this_Seat,Not_Ejected,Not_Ejected/Not_Applicable,Not_Extricated,Not_Applicable_-_Vehicle_Occupant,Unknown_(Police_Reported),Not_Reported,Whole_Blood,97,Reported_Unknown,Not_Reported,Unknown_if_Tested_for_Drugs,999,Not_Tested_for_Drugs,000,Not_Tested_for_Drugs,000,Non-Hispanic,No,Not_Applicable_-_Driver/None_-_All_Other_Persons,Not_Applicable_-_Driver/None_-_All_Other_Persons,Not_Applicable_-_Driver/None_-_All_Other_Persons,White,Fatal_Injury\r",
      "\r\n",
      "Alabama,20,Male,Driver,Front_Seat_-_Left_Side_(Drivers_Side),None_Used/Not_Applicable,Air_Bag_Not_Available_for_this_Seat,Partially_Ejected,Unknown,Not_Extricated,Not_Applicable_-_Vehicle_Occupant,Unknown_(Police_Reported),Not_Reported,Whole_Blood,97,Reported_Unknown,Not_Reported,Unknown_if_Tested_for_Drugs,999,Not_Tested_for_Drugs,000,Not_Tested_for_Drugs,000,Non-Hispanic,No,Not_Applicable_-_Driver/None_-_All_Other_Persons,Not_Applicable_-_Driver/None_-_All_Other_Persons,Not_Applicable_-_Driver/None_-_All_Other_Persons,White,Fatal_Injury\r",
      "\r\n",
      "Alabama,39,Male,Driver,Front_Seat_-_Left_Side_(Drivers_Side),Motorcycle_Helmet,Air_Bag_Not_Available_for_this_Seat,Not_Ejected,Not_Ejected/Not_Applicable,Not_Extricated,Not_Applicable_-_Vehicle_Occupant,Yes_(Alcohol_Involved),Not_Reported,Whole_Blood,97,Reported_Unknown,Not_Reported,Unknown_if_Tested_for_Drugs,999,Not_Tested_for_Drugs,000,Not_Tested_for_Drugs,000,Non-Hispanic,Yes,Not_Applicable_-_Driver/None_-_All_Other_Persons,Not_Applicable_-_Driver/None_-_All_Other_Persons,Not_Applicable_-_Driver/None_-_All_Other_Persons,White,Fatal_Injury\r",
      "\r\n",
      "Alabama,34,Male,Driver,Front_Seat_-_Left_Side_(Drivers_Side),None_Used/Not_Applicable,Air_Bag_Not_Available_for_this_Seat,Totally_Ejected,Unknown,Not_Extricated,Not_Applicable_-_Vehicle_Occupant,Yes_(Alcohol_Involved),Not_Reported,Whole_Blood,97,Reported_Unknown,Not_Reported,Unknown_if_Tested_for_Drugs,999,Not_Tested_for_Drugs,000,Not_Tested_for_Drugs,000,Non-Hispanic,No,Not_Applicable_-_Driver/None_-_All_Other_Persons,Not_Applicable_-_Driver/None_-_All_Other_Persons,Not_Applicable_-_Driver/None_-_All_Other_Persons,White,Fatal_Injury\r",
      "\r\n",
      "Alabama,54,Male,Passenger_of_a_Motor_Vehicle_in_Transport,Second_Seat_-_Right_Side,None_Used/Not_Applicable,Air_Bag_Not_Available_for_this_Seat,Partially_Ejected,Unknown,Not_Extricated,Not_Applicable_-_Vehicle_Occupant,Not_reported,Not_Reported,Not_Tested_for_Alcohol,96,Not_Reported,Not_Reported,Not_Tested_for_Drugs,000,Not_Tested_for_Drugs,000,Not_Tested_for_Drugs,000,Not_a_Fatality_(Not_Applicable),Yes,Not_Applicable_-_Driver/None_-_All_Other_Persons,Not_Applicable_-_Driver/None_-_All_Other_Persons,Not_Applicable_-_Driver/None_-_All_Other_Persons,Not_a_Fatality_(Not_Applicable),Incapaciting_Injury\r",
      "\r\n",
      "Alabama,34,Male,Passenger_of_a_Motor_Vehicle_in_Transport,Front_Seat_-_Right_Side,None_Used/Not_Applicable,Air_Bag_Not_Available_for_this_Seat,Totally_Ejected,Unknown,Not_Extricated,Not_Applicable_-_Vehicle_Occupant,Not_reported,Not_Reported,Not_Tested_for_Alcohol,96,Not_Reported,Not_Reported,Not_Tested_for_Drugs,000,Not_Tested_for_Drugs,000,Not_Tested_for_Drugs,000,Not_a_Fatality_(Not_Applicable),Yes,Not_Applicable_-_Driver/None_-_All_Other_Persons,Not_Applicable_-_Driver/None_-_All_Other_Persons,Not_Applicable_-_Driver/None_-_All_Other_Persons,Not_a_Fatality_(Not_Applicable),Incapaciting_Injury\r",
      "\r\n",
      "Alabama,35,Female,Driver,Front_Seat_-_Left_Side_(Drivers_Side),Lap_and_Shoulder_Belt,Deployed_Air_Bag_from_Front,Not_Ejected,Not_Ejected/Not_Applicable,Not_Extricated,Not_Applicable_-_Vehicle_Occupant,No_(Alcohol_Not_Involved),Not_Reported,Not_Tested_for_Alcohol,96,No_Drugs,Not_Reported,Not_Tested_for_Drugs,000,Not_Tested_for_Drugs,000,Not_Tested_for_Drugs,000,Not_a_Fatality_(Not_Applicable),Yes,Not_Applicable_-_Driver/None_-_All_Other_Persons,Not_Applicable_-_Driver/None_-_All_Other_Persons,Not_Applicable_-_Driver/None_-_All_Other_Persons,Not_a_Fatality_(Not_Applicable),Incapaciting_Injury\r",
      "\r\n",
      "Alabama,04,Male,Passenger_of_a_Motor_Vehicle_in_Transport,Front_Seat_-_Right_Side,Lap_and_Shoulder_Belt,Deployed_Air_Bag_from_Front,Not_Ejected,Not_Ejected/Not_Applicable,Not_Extricated,Not_Applicable_-_Vehicle_Occupant,Not_reported,Not_Reported,Unknown(Not_Reported_Since_2001),99,Not_Reported,Not_Reported,Unknown_if_Tested_for_Drugs,999,Not_Tested_for_Drugs,000,Not_Tested_for_Drugs,000,Non-Hispanic,No,Not_Applicable_-_Driver/None_-_All_Other_Persons,Not_Applicable_-_Driver/None_-_All_Other_Persons,Not_Applicable_-_Driver/None_-_All_Other_Persons,White,Fatal_Injury\r",
      "\r\n",
      "Alabama,01,Male,Passenger_of_a_Motor_Vehicle_in_Transport,Second_Seat_-_Right_Side,Child_Safety_Seat,Air_Bag_Not_Available_for_this_Seat,Not_Ejected,Not_Ejected/Not_Applicable,Not_Extricated,Not_Applicable_-_Vehicle_Occupant,Not_reported,Not_Reported,Not_Tested_for_Alcohol,96,Not_Reported,Not_Reported,Not_Tested_for_Drugs,000,Not_Tested_for_Drugs,000,Not_Tested_for_Drugs,000,Not_a_Fatality_(Not_Applicable),Yes,Not_Applicable_-_Driver/None_-_All_Other_Persons,Not_Applicable_-_Driver/None_-_All_Other_Persons,Not_Applicable_-_Driver/None_-_All_Other_Persons,Not_a_Fatality_(Not_Applicable),Incapaciting_Injury\r",
      "\r\n",
      "Alabama,44,Female,Driver,Front_Seat_-_Left_Side_(Drivers_Side),None_Used/Not_Applicable,Air_Bag_Not_Available_for_this_Seat,Totally_Ejected,Unknown,Not_Extricated,Not_Applicable_-_Vehicle_Occupant,Unknown_(Police_Reported),Not_Reported,Whole_Blood,97,Reported_Unknown,Not_Reported,Unknown_if_Tested_for_Drugs,999,Not_Tested_for_Drugs,000,Not_Tested_for_Drugs,000,Non-Hispanic,No,Not_Applicable_-_Driver/None_-_All_Other_Persons,Not_Applicable_-_Driver/None_-_All_Other_Persons,Not_Applicable_-_Driver/None_-_All_Other_Persons,White,Fatal_Injury\r",
      "\r\n",
      "Alabama,29,Male,Driver,Front_Seat_-_Left_Side_(Drivers_Side),None_Used/Not_Applicable,Air_Bag_Not_Available_for_this_Seat,Not_Ejected,Not_Ejected/Not_Applicable,Not_Extricated,Not_Applicable_-_Vehicle_Occupant,Unknown_(Police_Reported),Not_Reported,Whole_Blood,97,Reported_Unknown,Not_Reported,Unknown_if_Tested_for_Drugs,999,Not_Tested_for_Drugs,000,Not_Tested_for_Drugs,000,Non-Hispanic,No,Not_Applicable_-_Driver/None_-_All_Other_Persons,Not_Applicable_-_Driver/None_-_All_Other_Persons,Not_Applicable_-_Driver/None_-_All_Other_Persons,White,Fatal_Injury\r",
      "\r\n",
      "Alabama,34,Male,Passenger_of_a_Motor_Vehicle_in_Transport,Front_Seat_-_Right_Side,None_Used/Not_Applicable,Air_Bag_Not_Available_for_this_Seat,Not_Ejected,Not_Ejected/Not_Applicable,Not_Extricated,Not_Applicable_-_Vehicle_Occupant,Not_reported,Not_Reported,Unknown(Not_Reported_Since_2001),99,Not_Reported,Not_Reported,Unknown_if_Tested_for_Drugs,999,Not_Tested_for_Drugs,000,Not_Tested_for_Drugs,000,Non-Hispanic,Yes,Not_Applicable_-_Driver/None_-_All_Other_Persons,Not_Applicable_-_Driver/None_-_All_Other_Persons,Not_Applicable_-_Driver/None_-_All_Other_Persons,White,Fatal_Injury\r",
      "\r\n",
      "Alabama,29,Male,Driver,Front_Seat_-_Left_Side_(Drivers_Side),None_Used/Not_Applicable,Air_Bag_Available_but_Not_Deployed_for_this_Seat,Not_Ejected,Not_Ejected/Not_Applicable,Not_Extricated,Not_Applicable_-_Vehicle_Occupant,No_(Alcohol_Not_Involved),Not_Reported,Not_Tested_for_Alcohol,96,No_Drugs,Not_Reported,Not_Tested_for_Drugs,000,Not_Tested_for_Drugs,000,Not_Tested_for_Drugs,000,Not_a_Fatality_(Not_Applicable),Yes,Not_Applicable_-_Driver/None_-_All_Other_Persons,Not_Applicable_-_Driver/None_-_All_Other_Persons,Not_Applicable_-_Driver/None_-_All_Other_Persons,Not_a_Fatality_(Not_Applicable),Incapaciting_Injury\r",
      "\r\n",
      "Alabama,18,Male,Driver,Front_Seat_-_Left_Side_(Drivers_Side),None_Used/Not_Applicable,Air_Bag_Not_Available_for_this_Seat,Totally_Ejected,Unknown,Not_Extricated,Not_Applicable_-_Vehicle_Occupant,Unknown_(Police_Reported),Not_Reported,Not_Tested_for_Alcohol,96,Reported_Unknown,Not_Reported,Not_Tested_for_Drugs,000,Not_Tested_for_Drugs,000,Not_Tested_for_Drugs,000,Non-Hispanic,Yes,Not_Applicable_-_Driver/None_-_All_Other_Persons,Not_Applicable_-_Driver/None_-_All_Other_Persons,Not_Applicable_-_Driver/None_-_All_Other_Persons,White,Fatal_Injury\r",
      "\r\n",
      "Alabama,21,Female,Driver,Front_Seat_-_Left_Side_(Drivers_Side),Lap_and_Shoulder_Belt,Deployed_Air_Bag_from_Front,Not_Ejected,Not_Ejected/Not_Applicable,Not_Extricated,Not_Applicable_-_Vehicle_Occupant,No_(Alcohol_Not_Involved),Not_Reported,Not_Tested_for_Alcohol,96,No_Drugs,Not_Reported,Not_Tested_for_Drugs,000,Not_Tested_for_Drugs,000,Not_Tested_for_Drugs,000,Not_a_Fatality_(Not_Applicable),No,Not_Applicable_-_Driver/None_-_All_Other_Persons,Not_Applicable_-_Driver/None_-_All_Other_Persons,Not_Applicable_-_Driver/None_-_All_Other_Persons,Not_a_Fatality_(Not_Applicable),No_Injury\r",
      "\r\n",
      "Alabama,80,Male,Driver,Front_Seat_-_Left_Side_(Drivers_Side),Lap_and_Shoulder_Belt,Deployed_Air_Bag_from_Front,Not_Ejected,Not_Ejected/Not_Applicable,Not_Extricated,Not_Applicable_-_Vehicle_Occupant,No_(Alcohol_Not_Involved),Not_Reported,Not_Tested_for_Alcohol,96,Reported_Unknown,Not_Reported,Not_Tested_for_Drugs,000,Not_Tested_for_Drugs,000,Not_Tested_for_Drugs,000,Non-Hispanic,Yes,Not_Applicable_-_Driver/None_-_All_Other_Persons,Not_Applicable_-_Driver/None_-_All_Other_Persons,Not_Applicable_-_Driver/None_-_All_Other_Persons,White,Fatal_Injury\r",
      "\r\n",
      "Alabama,20,Male,Driver,Front_Seat_-_Left_Side_(Drivers_Side),None_Used/Not_Applicable,Deployed_Air_Bag_from_Front,Partially_Ejected,Unknown,Not_Extricated,Not_Applicable_-_Vehicle_Occupant,Yes_(Alcohol_Involved),Not_Reported,Breath_BAC,04,Drugs_Involved,Not_Reported,Unknown_if_Tested_for_Drugs,999,Not_Tested_for_Drugs,000,Not_Tested_for_Drugs,000,Not_a_Fatality_(Not_Applicable),Yes,Not_Applicable_-_Driver/None_-_All_Other_Persons,Not_Applicable_-_Driver/None_-_All_Other_Persons,Not_Applicable_-_Driver/None_-_All_Other_Persons,Not_a_Fatality_(Not_Applicable),Incapaciting_Injury\r",
      "\r\n",
      "Alabama,17,Male,Passenger_of_a_Motor_Vehicle_in_Transport,Second_Seat_-_Right_Side,Lap_and_Shoulder_Belt,Air_Bag_Not_Available_for_this_Seat,Not_Ejected,Not_Ejected/Not_Applicable,Not_Extricated,Not_Applicable_-_Vehicle_Occupant,Not_reported,Not_Reported,Unknown(Not_Reported_Since_2001),99,Not_Reported,Not_Reported,Unknown_if_Tested_for_Drugs,999,Not_Tested_for_Drugs,000,Not_Tested_for_Drugs,000,Non-Hispanic,No,Not_Applicable_-_Driver/None_-_All_Other_Persons,Not_Applicable_-_Driver/None_-_All_Other_Persons,Not_Applicable_-_Driver/None_-_All_Other_Persons,White,Fatal_Injury\r",
      "\r\n",
      "Alabama,19,Male,Passenger_of_a_Motor_Vehicle_in_Transport,Front_Seat_-_Right_Side,None_Used/Not_Applicable,Air_Bag_Not_Available_for_this_Seat,Not_Ejected,Not_Ejected/Not_Applicable,Not_Extricated,Not_Applicable_-_Vehicle_Occupant,Not_reported,Not_Reported,Not_Tested_for_Alcohol,96,Not_Reported,Not_Reported,Not_Tested_for_Drugs,000,Not_Tested_for_Drugs,000,Not_Tested_for_Drugs,000,Not_a_Fatality_(Not_Applicable),Yes,Not_Applicable_-_Driver/None_-_All_Other_Persons,Not_Applicable_-_Driver/None_-_All_Other_Persons,Not_Applicable_-_Driver/None_-_All_Other_Persons,Not_a_Fatality_(Not_Applicable),Incapaciting_Injury\r",
      "\r\n",
      "Alabama,85,Female,Driver,Front_Seat_-_Left_Side_(Drivers_Side),Lap_and_Shoulder_Belt,Air_Bag_Not_Available_for_this_Seat,Not_Ejected,Not_Ejected/Not_Applicable,Not_Extricated,Not_Applicable_-_Vehicle_Occupant,No_(Alcohol_Not_Involved),Not_Reported,Whole_Blood,97,No_Drugs,Not_Reported,Unknown_if_Tested_for_Drugs,999,Not_Tested_for_Drugs,000,Not_Tested_for_Drugs,000,Non-Hispanic,No,Not_Applicable_-_Driver/None_-_All_Other_Persons,Not_Applicable_-_Driver/None_-_All_Other_Persons,Not_Applicable_-_Driver/None_-_All_Other_Persons,White,Fatal_Injury\r",
      "\r\n",
      "Alabama,58,Female,Passenger_of_a_Motor_Vehicle_in_Transport,Front_Seat_-_Right_Side,Lap_and_Shoulder_Belt,Air_Bag_Not_Available_for_this_Seat,Not_Ejected,Not_Ejected/Not_Applicable,Not_Extricated,Not_Applicable_-_Vehicle_Occupant,Not_reported,Not_Reported,Unknown(Not_Reported_Since_2001),99,Not_Reported,Not_Reported,Unknown_if_Tested_for_Drugs,999,Not_Tested_for_Drugs,000,Not_Tested_for_Drugs,000,Non-Hispanic,No,Not_Applicable_-_Driver/None_-_All_Other_Persons,Not_Applicable_-_Driver/None_-_All_Other_Persons,Not_Applicable_-_Driver/None_-_All_Other_Persons,White,Fatal_Injury\r",
      "\r\n",
      "Alabama,36,Male,Driver,Front_Seat_-_Left_Side_(Drivers_Side),Lap_and_Shoulder_Belt,Air_Bag_Not_Available_for_this_Seat,Not_Ejected,Not_Ejected/Not_Applicable,Not_Extricated,Not_Applicable_-_Vehicle_Occupant,No_(Alcohol_Not_Involved),Not_Reported,Not_Tested_for_Alcohol,96,No_Drugs,Not_Reported,Not_Tested_for_Drugs,000,Not_Tested_for_Drugs,000,Not_Tested_for_Drugs,000,Not_a_Fatality_(Not_Applicable),Yes,Not_Applicable_-_Driver/None_-_All_Other_Persons,Not_Applicable_-_Driver/None_-_All_Other_Persons,Not_Applicable_-_Driver/None_-_All_Other_Persons,Not_a_Fatality_(Not_Applicable),Incapaciting_Injury\r",
      "\r\n",
      "Alabama,40,Male,Passenger_of_a_Motor_Vehicle_in_Transport,Front_Seat_-_Right_Side,Lap_and_Shoulder_Belt,Air_Bag_Not_Available_for_this_Seat,Not_Ejected,Not_Ejected/Not_Applicable,Not_Extricated,Not_Applicable_-_Vehicle_Occupant,Not_reported,Not_Reported,Not_Tested_for_Alcohol,96,Not_Reported,Not_Reported,Not_Tested_for_Drugs,000,Not_Tested_for_Drugs,000,Not_Tested_for_Drugs,000,Not_a_Fatality_(Not_Applicable),Yes,Not_Applicable_-_Driver/None_-_All_Other_Persons,Not_Applicable_-_Driver/None_-_All_Other_Persons,Not_Applicable_-_Driver/None_-_All_Other_Persons,Not_a_Fatality_(Not_Applicable),Incapaciting_Injury\r",
      "\r\n",
      "Alabama,18,Male,Passenger_of_a_Motor_Vehicle_in_Transport,Second_Seat_-_Left_Side,Lap_and_Shoulder_Belt,Air_Bag_Not_Available_for_this_Seat,Not_Ejected,Not_Ejected/Not_Applicable,Not_Extricated,Not_Applicable_-_Vehicle_Occupant,Not_reported,Not_Reported,Not_Tested_for_Alcohol,96,Not_Reported,Not_Reported,Not_Tested_for_Drugs,000,Not_Tested_for_Drugs,000,Not_Tested_for_Drugs,000,Not_a_Fatality_(Not_Applicable),Yes,Not_Applicable_-_Driver/None_-_All_Other_Persons,Not_Applicable_-_Driver/None_-_All_Other_Persons,Not_Applicable_-_Driver/None_-_All_Other_Persons,Not_a_Fatality_(Not_Applicable),Incapaciting_Injury\r",
      "\r\n",
      "Alabama,19,Male,Passenger_of_a_Motor_Vehicle_in_Transport,Second_Seat_-_Right_Side,Lap_and_Shoulder_Belt,Air_Bag_Not_Available_for_this_Seat,Not_Ejected,Not_Ejected/Not_Applicable,Not_Extricated,Not_Applicable_-_Vehicle_Occupant,Not_reported,Not_Reported,Not_Tested_for_Alcohol,96,Not_Reported,Not_Reported,Not_Tested_for_Drugs,000,Not_Tested_for_Drugs,000,Not_Tested_for_Drugs,000,Not_a_Fatality_(Not_Applicable),Yes,Not_Applicable_-_Driver/None_-_All_Other_Persons,Not_Applicable_-_Driver/None_-_All_Other_Persons,Not_Applicable_-_Driver/None_-_All_Other_Persons,Not_a_Fatality_(Not_Applicable),Incapaciting_Injury\r",
      "\r\n",
      "Alabama,22,Male,Driver,Front_Seat_-_Left_Side_(Drivers_Side),Lap_and_Shoulder_Belt,Air_Bag_Not_Available_for_this_Seat,Not_Ejected,Not_Ejected/Not_Applicable,Not_Extricated,Not_Applicable_-_Vehicle_Occupant,No_(Alcohol_Not_Involved),Not_Reported,Not_Tested_for_Alcohol,96,No_Drugs,Not_Reported,Not_Tested_for_Drugs,000,Not_Tested_for_Drugs,000,Not_Tested_for_Drugs,000,Not_a_Fatality_(Not_Applicable),Yes,Not_Applicable_-_Driver/None_-_All_Other_Persons,Not_Applicable_-_Driver/None_-_All_Other_Persons,Not_Applicable_-_Driver/None_-_All_Other_Persons,Not_a_Fatality_(Not_Applicable),Incapaciting_Injury\r",
      "\r\n"
     ]
    }
   ],
   "source": [
    "! head -n 50 data/fars.csv"
   ]
  }
 ],
 "metadata": {
  "kernelspec": {
   "display_name": "Python 3",
   "language": "python",
   "name": "python3"
  },
  "language_info": {
   "codemirror_mode": {
    "name": "ipython",
    "version": 3
   },
   "file_extension": ".py",
   "mimetype": "text/x-python",
   "name": "python",
   "nbconvert_exporter": "python",
   "pygments_lexer": "ipython3",
   "version": "3.6.1"
  }
 },
 "nbformat": 4,
 "nbformat_minor": 2
}
