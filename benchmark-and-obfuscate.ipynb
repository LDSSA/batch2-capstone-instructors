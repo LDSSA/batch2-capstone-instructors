{
 "cells": [
  {
   "cell_type": "code",
   "execution_count": 1,
   "metadata": {},
   "outputs": [
    {
     "name": "stderr",
     "output_type": "stream",
     "text": [
      "/Library/Frameworks/Python.framework/Versions/3.6/lib/python3.6/importlib/_bootstrap.py:205: RuntimeWarning: numpy.dtype size changed, may indicate binary incompatibility. Expected 96, got 88\n",
      "  return f(*args, **kwds)\n",
      "/Library/Frameworks/Python.framework/Versions/3.6/lib/python3.6/importlib/_bootstrap.py:205: RuntimeWarning: numpy.dtype size changed, may indicate binary incompatibility. Expected 96, got 88\n",
      "  return f(*args, **kwds)\n",
      "/Users/samuelhopkins/.virtualenvs/capstone/lib/python3.6/site-packages/sklearn/ensemble/weight_boosting.py:29: DeprecationWarning: numpy.core.umath_tests is an internal NumPy module and should not be imported. It will be removed in a future NumPy release.\n",
      "  from numpy.core.umath_tests import inner1d\n"
     ]
    }
   ],
   "source": [
    "import pandas as pd\n",
    "from sklearn.model_selection import train_test_split\n",
    "from sklearn.metrics import roc_auc_score\n",
    "import category_encoders\n",
    "from sklearn.preprocessing import Imputer\n",
    "from sklearn.pipeline import Pipeline, make_pipeline\n",
    "from sklearn.linear_model import LogisticRegression\n",
    "from sklearn.ensemble import RandomForestClassifier\n",
    "\n",
    "% matplotlib inline"
   ]
  },
  {
   "cell_type": "code",
   "execution_count": 2,
   "metadata": {},
   "outputs": [
    {
     "name": "stdout",
     "output_type": "stream",
     "text": [
      "(100968, 30)\n",
      "(62123, 30)\n"
     ]
    }
   ],
   "source": [
    "orig_df = pd.read_csv('data/fars.csv')\n",
    "print(orig_df.shape)\n",
    "orig_df = orig_df.loc[orig_df.INJURY_SEVERITY.isin({'Fatal_Injury', 'No_Injury'})].copy()\n",
    "orig_df['INJURY_SEVERITY'] = orig_df.INJURY_SEVERITY.map({'Fatal_Injury': 1, 'No_Injury': 0})\n",
    "print(orig_df.shape)"
   ]
  },
  {
   "cell_type": "code",
   "execution_count": null,
   "metadata": {},
   "outputs": [],
   "source": []
  },
  {
   "cell_type": "code",
   "execution_count": 3,
   "metadata": {},
   "outputs": [],
   "source": [
    "random_state = 42\n",
    "\n",
    "class Experiment:\n",
    "    def __str__(self):\n",
    "        return str((\n",
    "            ('X_train', self.X_train.shape[0]),\n",
    "            ('X_test', self.X_test.shape[0]),\n",
    "            ('X_test_1', self.X_test_1.shape[0]),\n",
    "            ('X_test_2', self.X_test_2.shape[0])\n",
    "        ))\n",
    "    \n",
    "    def __repr__(self):\n",
    "        return str(self)\n",
    "\n",
    "\n",
    "def _create_splits(_df, exp, remove_from_train):\n",
    "    exp.X_train, exp.X_test, exp.y_train, exp.y_test = train_test_split(\n",
    "        _df.drop('INJURY_SEVERITY', axis=1),\n",
    "        _df['INJURY_SEVERITY'],\n",
    "        test_size=10000 - 100, # because of heroku limits,\n",
    "        random_state=random_state\n",
    "    )\n",
    "    \n",
    "    exp.X_train_after, exp.y_train_after = exp.X_train.copy(), exp.y_train.copy()\n",
    "    \n",
    "    half = round(exp.X_test.shape[0] / 2)\n",
    "    exp.X_test_1, exp.y_test_1 = exp.X_test.iloc[:half].copy(), exp.y_test.iloc[:half].copy()\n",
    "    exp.X_test_2, exp.y_test_2 = exp.X_test.iloc[half:].copy(), exp.y_test.iloc[half:].copy()\n",
    "    \n",
    "    for transformer in remove_from_train:\n",
    "        remove_mask = transformer(exp.X_train_after)\n",
    "        exp.X_train_after = exp.X_train_after.loc[~remove_mask].copy()\n",
    "        exp.y_train_after = exp.y_train_after.loc[~remove_mask].copy()\n",
    "\n",
    "        \n",
    "def _make_pipeline():\n",
    "    return make_pipeline(\n",
    "        category_encoders.OrdinalEncoder(handle_unknown='ignore'),\n",
    "        Imputer(strategy='mean'),\n",
    "        RandomForestClassifier(n_estimators=50, n_jobs=-1, random_state=random_state),\n",
    "    )\n",
    "        \n",
    "    \n",
    "def _make_pipelines(exp):\n",
    "    exp.base_pipeline = _make_pipeline()\n",
    "    exp.retrained_pipeline = _make_pipeline()\n",
    "    \n",
    "    \n",
    "def _run_benchmarks(exp):\n",
    "    exp.base_pipeline.fit(exp.X_train_after.copy(), exp.y_train_after.copy())    \n",
    "    exp.base_score = roc_auc_score(exp.y_test, exp.base_pipeline.predict_proba(exp.X_test)[:, 1])\n",
    "    \n",
    "    exp.retrained_pipeline.fit(\n",
    "        pd.concat([exp.X_train, exp.X_test_1]),\n",
    "        pd.concat([exp.y_train, exp.y_test_1])\n",
    "    )\n",
    "    \n",
    "    retrained_predictions = pd.concat([\n",
    "        pd.Series(exp.base_pipeline.predict_proba(exp.X_test_1)[:, 1]),\n",
    "        pd.Series(exp.retrained_pipeline.predict_proba(exp.X_test_2)[:, 1])\n",
    "    ])\n",
    "    \n",
    "    exp.retrained_score = roc_auc_score(exp.y_test, retrained_predictions)\n",
    "    print(f'benchmark with no re-training: {exp.base_score}')\n",
    "    print(f'benchmark with re-training: {exp.retrained_score}')\n",
    "\n",
    "    \n",
    "def plot_importances(exp, pipeline):\n",
    "    pd.Series(\n",
    "        pipeline.steps[-1][1].feature_importances_,\n",
    "        index=exp.X_train_after.columns\n",
    "    ).nlargest(15).plot.barh();\n",
    "    \n",
    "    \n",
    "def run_experiment(_df=None, remove_from_train=None, exp=None):\n",
    "    \n",
    "    remove_from_train = remove_from_train or []\n",
    "    if exp is None:\n",
    "        exp = Experiment()\n",
    "        _create_splits(_df, exp, remove_from_train)\n",
    "    _make_pipelines(exp)\n",
    "    _run_benchmarks(exp)\n",
    "    \n",
    "    return exp"
   ]
  },
  {
   "cell_type": "code",
   "execution_count": 4,
   "metadata": {},
   "outputs": [],
   "source": [
    "known_features = [\n",
    "    'SEX',\n",
    "    'PERSON_TYPE',\n",
    "    'SEATING_POSITION',\n",
    "    'NON_MOTORIST_LOCATION',\n",
    "    'RELATED_FACTOR_(1)-PERSON_LEVEL',\n",
    "    'RELATED_FACTOR_(2)-PERSON_LEVEL',\n",
    "    'RELATED_FACTOR_(3)-PERSON_LEVEL',\n",
    "    'INJURY_SEVERITY',\n",
    "    'AGE'\n",
    "]"
   ]
  },
  {
   "cell_type": "code",
   "execution_count": 7,
   "metadata": {},
   "outputs": [
    {
     "name": "stdout",
     "output_type": "stream",
     "text": [
      "benchmark with no re-training: 0.6768780969057535\n",
      "benchmark with re-training: 0.6763456541331236\n"
     ]
    }
   ],
   "source": [
    "exp1 = run_experiment(orig_df[known_features].copy())"
   ]
  },
  {
   "cell_type": "code",
   "execution_count": 10,
   "metadata": {},
   "outputs": [
    {
     "data": {
      "image/png": "[encoded data removed]",
      "text/plain": [
       "<Figure size 432x288 with 1 Axes>"
      ]
     },
     "metadata": {},
     "output_type": "display_data"
    }
   ],
   "source": [
    "plot_importances(exp1, exp1.base_pipeline)"
   ]
  },
  {
   "cell_type": "code",
   "execution_count": 11,
   "metadata": {},
   "outputs": [
    {
     "data": {
      "image/png": "[encoded data removed]",
      "text/plain": [
       "<Figure size 432x288 with 1 Axes>"
      ]
     },
     "metadata": {},
     "output_type": "display_data"
    }
   ],
   "source": [
    "plot_importances(exp1, exp1.retrained_pipeline)"
   ]
  },
  {
   "cell_type": "code",
   "execution_count": 12,
   "metadata": {},
   "outputs": [
    {
     "name": "stdout",
     "output_type": "stream",
     "text": [
      "benchmark with no re-training: 0.6030793778075982\n",
      "benchmark with re-training: 0.6435684302932468\n"
     ]
    }
   ],
   "source": [
    "exp = exp_orig = run_experiment(\n",
    "    orig_df[known_features].copy(),\n",
    "    remove_from_train=[\n",
    "        lambda _df: _df.AGE < 40,\n",
    "        lambda _df: _df.AGE > 55,\n",
    "        lambda _df: _df.SEATING_POSITION == 'Second_Seat_-_Right_Side',\n",
    "        lambda _df: _df.SEATING_POSITION == 'Second_Seat_-_Left_Side',\n",
    "        lambda _df: _df.SEATING_POSITION == 'Unknown',\n",
    "    ]\n",
    ")"
   ]
  },
  {
   "cell_type": "code",
   "execution_count": 13,
   "metadata": {},
   "outputs": [
    {
     "data": {
      "image/png": "[encoded data removed]",
      "text/plain": [
       "<Figure size 432x288 with 1 Axes>"
      ]
     },
     "metadata": {},
     "output_type": "display_data"
    }
   ],
   "source": [
    "plot_importances(exp, exp.base_pipeline)"
   ]
  },
  {
   "cell_type": "code",
   "execution_count": 14,
   "metadata": {},
   "outputs": [
    {
     "data": {
      "image/png": "[encoded data removed]",
      "text/plain": [
       "<Figure size 432x288 with 1 Axes>"
      ]
     },
     "metadata": {},
     "output_type": "display_data"
    }
   ],
   "source": [
    "plot_importances(exp, exp.retrained_pipeline)"
   ]
  },
  {
   "cell_type": "markdown",
   "metadata": {},
   "source": [
    "# Obfuscate and visual QA"
   ]
  },
  {
   "cell_type": "code",
   "execution_count": 15,
   "metadata": {},
   "outputs": [],
   "source": [
    "obfuscation_mapping = {\n",
    "    'PERSON_TYPE': {\n",
    "         'Driver': 'driving',\n",
    "         'Bicyclist': 'on_bike',\n",
    "         'Passenger_of_a_Motor_Vehicle_in_Transport': 'passenger',\n",
    "         'Pedestrian': 'on_foot',\n",
    "         'Other_Pedestrian': 'other_on_foot',\n",
    "         'Occupant_of_a_Motor_Vehicle_Not_in_Transport': 'in_stopped_vehicle',\n",
    "         'Unknown_Occupant_Type_in_a_Motor_Vehicle_in_Transport': 'unknown_in_vehicle',\n",
    "         'Occupant_of_a_Non-Motor_Vehicle_Transport_Device': 'unknown_in_other_vehicle_type',\n",
    "         'Other_Cyclist': 'other_on_bike'\n",
    "    },\n",
    "    'SEATING_POSITION': {\n",
    "        'Front_Seat_-_Left_Side_(Drivers_Side)': 'front_left',\n",
    "         'Non-Motorist': 'not_in_vehicle',\n",
    "         'Other_Passenger_in_enclosed_passenger_or_cargo_area': 'cargo_area',\n",
    "         'Front_Seat_-_Right_Side': 'front_right',\n",
    "         'Second_Seat_-_Right_Side': 'front_right_second',\n",
    "         'Second_Seat_-_Left_Side': 'front_left_second',\n",
    "         'Unknown': 'n/a',\n",
    "         'Second_Seat_-_Middle': 'second_middle',\n",
    "         'Front_Seat_-_Middle': 'front_middle',\n",
    "         'Other_Passenger_in_unenclosed_passenger_or_cargo_area': 'cargo_open_area',\n",
    "         'Riding_on_Vehicle_Exterior': 'riding_outside_of_vehicle',\n",
    "         'Sleeper_Section_of_Cab_(Truck)': 'truck_cab_sleeper_area',\n",
    "         'Third_Seat_-_Right_Side': 'third_right',\n",
    "         'Third_Seat_-_Left_Side_(Drivers_Side)': 'third_left',\n",
    "         'Front_Seat_-_Unknown': 'front_unknown',\n",
    "         'Third_Seat_-_Other': 'other_third',\n",
    "         'Second_Seat_-_Unknown': 'second_other',\n",
    "         'Second_Seat_-_Other': 'second_unknown',\n",
    "         'Third_Seat_-_Middle': 'middle_third',\n",
    "         'Other_Passenger_in_passenger_or_cargo_area_(unknown_whether_or_not_enclosed)': 'cargo_area_unknown',\n",
    "         'Front_Seat_-_Other': 'front_unknown',\n",
    "         'Trailing_Unit': 'in_trailer',\n",
    "         'Third_Seat_-_Unknown': 'third_unknown',\n",
    "         'Fourth_Seat_-_Left_Side': 'fourth_left',\n",
    "         'Fourth_Seat_-_Right_Side': 'fourth_right'\n",
    "    },\n",
    "    'NON_MOTORIST_LOCATION': {\n",
    "         'Not_Applicable_-_Vehicle_Occupant': 'N/A',\n",
    "         'Non-Intersection_-_On_Roadway_Crosswalk_not_Available': 'in_unmarked_intersection',\n",
    "         'Intersection_-_In_Crosswalk': 'in_intersection_legal',\n",
    "         'Non-Intersection_-_On_Roadway_Not_in_Crosswalk': 'middle_of_road',\n",
    "         'Non-Intersection_-_On_Roadway_Crosswalk_Availability_Unknown': 'middle_of_road_unknown',\n",
    "         'Intersection_-_On_Roadway_Crosswalk_Availability_Unknown': 'in_intersection_possible_xwalk',\n",
    "         'Intersection_-_On_Roadway_Crosswalk_not_Available': 'in_intersection_no_xwalk',\n",
    "         'Non-Intersection_-_Other_Not_a_Roadway': 'not_intersection_not_road',\n",
    "         'Non-Intersection_-_Outside_Trafficway': 'not_intersection_no_highway',\n",
    "         'Intersection_-_On_Roadway_Not_in_Crosswalk': 'on_roadway_intersection',\n",
    "         'Non-Intersection_-_In_Crosswalk': 'xwalk_non_intersection',\n",
    "         'Intersection_-_Unknown': 'intersection_unknown',\n",
    "         'Non-Intersection_-_On_Road_Shoulder': 'roadside_not_intersection',\n",
    "         'Non-Intersection_-_Unknown': 'not_known_not_intersection',\n",
    "         'Unknown': 'unknown',\n",
    "         'Intersection_-_Not_on_Roadway': 'not_highway_in_intersection',\n",
    "         'Non-Intersection_-_Bike_Path': 'bike_path_not_intersection',\n",
    "         'Non-Intersection_-_In_Parking_Lane': 'parking_lane_not_intersection'\n",
    "    },\n",
    "    'related_factors': {\n",
    "         'Passed_OutBlackout': 'unconscious_or_too_krunk',\n",
    "         'Curve_Hill_Or_Other_Design_Features_(including_Traffic_signs_Embankment)': 'curved_hill',\n",
    "         'Mentally_Challenged': 'mentally_handicapped',\n",
    "         'Head_Restraints_AVOIDING_SWERVING_OR_SLIDING_DUE_TO': 'wearing_functional_head_restraints',\n",
    "         'Illegal_Driving_on_Road_Shoulder_in_Ditch_on_Sidewalk_on_Median': 'driving_on_roadside',\n",
    "         'Walking_With_Cane_or_Crutches': 'using_cane',\n",
    "         'Getting_Off/Out_of_or_On/In_to_Non-Moving_Transport_Vehicle': 'alighting_non_moving_vehicle',\n",
    "         'Improper_Crossing_or_Roadway_or_Intersection': 'bad_crossing_or_intersection',\n",
    "         'Mother_of_Dead_Fetus': 'mother_child_not_survived',\n",
    "         'Animals_in_Road': 'squirrel_in_road',\n",
    "         'Failure_to_Yield_Right_of_Way': 'failure_to_yield',\n",
    "         'Interfering_with_Driver': 'was_tickling_driver',\n",
    "         'Impaired_Due_to_Previous_Injury': 'has_previous_injury',\n",
    "         'Making_Improper_Turn': 'making_illegal_turn',\n",
    "         'Passing_on_Wrong_Side': 'passing_wrong_side',\n",
    "         'Slippery_or_Loose_Surface': 'slippery_surface',\n",
    "         'Operator_Inexperience': 'inexperienced_driver',\n",
    "         'Construction/Maintenance/Utility_Worker': 'roadside_worker',\n",
    "         'Getting_Off/Out_of_or_On/In_to_Moving_Transport_Vehicle': 'boarding_or_exiting_moving_vehicle',\n",
    "         'Parked_Vehicle': 'vehicle_was_parked',\n",
    "         'Driving_on_Wrong_Side_of_Road': 'driving_incorrect_side_of_road',\n",
    "         'Failure_to_Keep_in_Proper_Lane': 'swerved_out_of_lane',\n",
    "         'Driving_too_Fast_for_Conditions_or_in_Excess_of_Posted_Speed_Limit': 'speeding',\n",
    "         'Improper_or_Erratic_Lane_Changing': 'erratic_lane_change',\n",
    "         'Opening_Vehicle_Closure_into_Moving_Traffic_or_While_Vehicle_is_in_Motion': 'open_door_while_moving',\n",
    "         'Inattentive_(talking_Eating_etc)': 'on_cellphone',\n",
    "         'Passing_with_Insufficient_Distance_or_Inadequate_Visibility_or_Failing_to_Yield_to_Overtaking_Vehicle': 'was_doing_tide_challenge',\n",
    "         'Motor_Vehicle_(including_load)': 'motor_vehicle',\n",
    "         'Building_Billboard_or_Other_Structures': 'roadside_structure_construction_worker',\n",
    "         'Not_Applicable_-_Driver/None_-_All_Other_Persons': 'N/A',\n",
    "         'Failure_to_Observe_Warnings_or_Instructions_on_Vehicles_Displaying_Them': 'failure_observe_vehicle_warnings',\n",
    "         'Traveling_on_Prohibited_Trafficway': 'traveling_on_closed_road',\n",
    "         'Rain_Snow_Fog_Smoke_Sand_Dust': 'adverse_weather',\n",
    "         'Ruts_Holes_Bumps_in_Road': 'potholes_in_road',\n",
    "         'Trees_Crops_Vegetation': 'heavy_roadside_vegetation',\n",
    "         'Failure_to_Obey_Traffic_Signs_Traffic_Control_Devices_or_Traffic_Officers_Failure_to_Observe_Safety_Zone_Traffic_Laws': 'traffic_law_broken',\n",
    "         'Motorized_Wheelchair_Rider': 'uses_wheelchair',\n",
    "         'Locked_Wheel': 'wheel_locked',\n",
    "         'Reflected_Glare_Bright_Sunlight_Headlights': 'reflective_glare',\n",
    "         'Not_Visible': 'not_visible',\n",
    "         'Other_Physical_Impairment': 'physical_impairment',\n",
    "         'Failing_to_Dim_Lights_or_Have_Lights_on_When_Required': 'failure_turn_lights_on',\n",
    "         'Non-Motorist_Pushing_a_Vehicle': 'physically_pushing_vehicle',\n",
    "         'Darting_Stumbling_or_Running_into_Road': 'ran_into_road',\n",
    "         'Unknown': 'N/A or Unknown',\n",
    "         'Operating_without_Required_Equipment': 'missing_legally_required_equipment',\n",
    "         'Making_Improper_Entry_to_or_Exit_from_Trafficway': 'improper_entry_onto_highway',\n",
    "         'Vision_obscured_by_overcorrecting': 'suboptimal_visibility',\n",
    "         'Emotional_(e.g._Depression_Angry_Disputed)': 'recent_depression',\n",
    "         'Following_Improperly': 'following_too_close',\n",
    "         'Vehicle_in_Road': 'in_street',\n",
    "         'Operating_the_Vehicle_in_Other_Erratic_Reckless_Careless_or_Negligent_Manner_[or_Operating_at_Erratic_or_Suddenly_Changing_Speeds': 'erratic_careless_behavior',\n",
    "         'Restricted_to_Wheelchair': 'in_wheelchair',\n",
    "         'Pedestrian_NON-MOTOR_VEHICLE_OPERATOR_RELATED_FACTORS:': 'ped_non_vehicle_operator',\n",
    "         'Blind': 'sightless_or_blind',\n",
    "         'Walking/Riding_with_or_Against_Traffic_Playing_Working_Sitting_Lying_Standing_etc._in_Roadway': 'pedestrial_in_middle_of_street'\n",
    "    },\n",
    "    'SEX': {\n",
    "        'Male': 'm',\n",
    "        'Female': 'f'\n",
    "    }\n",
    "}\n",
    "\n",
    "obfuscation_mapping.update({\n",
    "    'RELATED_FACTOR_(1)-PERSON_LEVEL': obfuscation_mapping['related_factors'],\n",
    "    'RELATED_FACTOR_(2)-PERSON_LEVEL': obfuscation_mapping['related_factors'],\n",
    "    'RELATED_FACTOR_(3)-PERSON_LEVEL': obfuscation_mapping['related_factors'],\n",
    "})\n",
    "del obfuscation_mapping['related_factors']\n",
    "\n",
    "colmapping = {\n",
    "    'PERSON_TYPE': 'person_attributes',\n",
    "    'SEATING_POSITION': 'seat',\n",
    "    'NON_MOTORIST_LOCATION': 'other_person_location',\n",
    "    'RELATED_FACTOR_(1)-PERSON_LEVEL': 'other_factor_1',\n",
    "    'RELATED_FACTOR_(2)-PERSON_LEVEL': 'other_factor_2',\n",
    "    'RELATED_FACTOR_(3)-PERSON_LEVEL': 'other_factor_3',\n",
    "    'SEX': 'm_or_f',\n",
    "    'AGE': 'age_in_years',\n",
    "}\n"
   ]
  },
  {
   "cell_type": "code",
   "execution_count": 16,
   "metadata": {},
   "outputs": [],
   "source": [
    "def obfuscate(exp):\n",
    "    \n",
    "    datasets_to_obfuscate = [\n",
    "        'X_train',\n",
    "        'X_train_after',\n",
    "        'X_test',\n",
    "        'X_test_1',\n",
    "        'X_test_2',\n",
    "    ]\n",
    "    \n",
    "    def _apply_to_all(func):\n",
    "        for attr in datasets_to_obfuscate:\n",
    "            func(getattr(exp, attr))\n",
    "    \n",
    "    for colname, mappings in obfuscation_mapping.items():\n",
    "        def _do_map(_df):\n",
    "            _df[colname] = _df[colname].map(mappings)\n",
    "        _apply_to_all(_do_map)\n",
    "\n",
    "    def _rename_cols(_df):\n",
    "        _df.rename(columns=colmapping, inplace=True)\n",
    "        \n",
    "    _apply_to_all(_rename_cols)"
   ]
  },
  {
   "cell_type": "code",
   "execution_count": 17,
   "metadata": {},
   "outputs": [],
   "source": [
    "# obfuscate the datasets from the last experiment that we ran\n",
    "obfuscate(exp)"
   ]
  },
  {
   "cell_type": "code",
   "execution_count": 18,
   "metadata": {},
   "outputs": [
    {
     "data": {
      "text/plain": [
       "0.6012168216848569"
      ]
     },
     "execution_count": 18,
     "metadata": {},
     "output_type": "execute_result"
    }
   ],
   "source": [
    "# make sure the benchmark is the same - it's not! it's off by a little bit\n",
    "# and I can't figure out why!!! I think it's close enough though...\n",
    "pipeline = _make_pipeline()\n",
    "pipeline.fit(exp.X_train_after, exp.y_train_after)\n",
    "roc_auc_score(exp.y_test, pipeline.predict_proba(exp.X_test)[:, 1])"
   ]
  },
  {
   "cell_type": "code",
   "execution_count": 19,
   "metadata": {},
   "outputs": [
    {
     "data": {
      "text/plain": [
       "((11173, 8), (11173, 8))"
      ]
     },
     "execution_count": 19,
     "metadata": {},
     "output_type": "execute_result"
    }
   ],
   "source": [
    "# make sure that the obfuscated shape is the same\n",
    "exp.X_train_after.shape, exp_orig.X_train_after.shape"
   ]
  },
  {
   "cell_type": "code",
   "execution_count": 20,
   "metadata": {},
   "outputs": [
    {
     "data": {
      "text/plain": [
       "[array(['m', 'f', nan], dtype=object),\n",
       " array(['driving', 'on_bike', 'passenger', 'on_foot', 'unknown_in_vehicle',\n",
       "        'in_stopped_vehicle', 'other_on_foot',\n",
       "        'unknown_in_other_vehicle_type'], dtype=object),\n",
       " array(['front_left', 'not_in_vehicle', 'front_right', 'front_unknown',\n",
       "        'front_middle', 'second_other', 'riding_outside_of_vehicle',\n",
       "        'second_middle', 'cargo_open_area', 'cargo_area',\n",
       "        'truck_cab_sleeper_area', 'second_unknown', 'in_trailer',\n",
       "        'third_unknown', 'third_right', 'middle_third',\n",
       "        'cargo_area_unknown', 'fourth_right'], dtype=object),\n",
       " array(['N/A', 'in_unmarked_intersection', 'in_intersection_legal',\n",
       "        'middle_of_road', 'middle_of_road_unknown',\n",
       "        'in_intersection_possible_xwalk', 'on_roadway_intersection',\n",
       "        'in_intersection_no_xwalk', 'not_known_not_intersection',\n",
       "        'roadside_not_intersection', 'not_intersection_not_road',\n",
       "        'not_intersection_no_highway', 'unknown',\n",
       "        'not_highway_in_intersection', 'intersection_unknown',\n",
       "        'xwalk_non_intersection', 'parking_lane_not_intersection'],\n",
       "       dtype=object),\n",
       " array(['N/A', 'pedestrial_in_middle_of_street',\n",
       "        'bad_crossing_or_intersection', 'failure_to_yield',\n",
       "        'N/A or Unknown', 'not_visible', 'ran_into_road',\n",
       "        'traffic_law_broken', 'on_cellphone',\n",
       "        'boarding_or_exiting_moving_vehicle', 'unconscious_or_too_krunk',\n",
       "        'recent_depression', 'traveling_on_closed_road',\n",
       "        'physical_impairment', 'was_doing_tide_challenge',\n",
       "        'swerved_out_of_lane', 'mother_child_not_survived',\n",
       "        'ped_non_vehicle_operator', 'alighting_non_moving_vehicle',\n",
       "        'roadside_worker', 'was_tickling_driver', 'open_door_while_moving',\n",
       "        'erratic_lane_change', 'physically_pushing_vehicle',\n",
       "        'sightless_or_blind', 'in_wheelchair', 'failure_turn_lights_on',\n",
       "        'using_cane', 'uses_wheelchair',\n",
       "        'missing_legally_required_equipment'], dtype=object),\n",
       " array(['N/A', 'N/A or Unknown', 'failure_to_yield',\n",
       "        'bad_crossing_or_intersection', 'pedestrial_in_middle_of_street',\n",
       "        'on_cellphone', 'ran_into_road', 'open_door_while_moving',\n",
       "        'traffic_law_broken', 'swerved_out_of_lane', 'physical_impairment',\n",
       "        'unconscious_or_too_krunk', 'missing_legally_required_equipment',\n",
       "        'not_visible', 'sightless_or_blind', 'motor_vehicle',\n",
       "        'recent_depression', 'alighting_non_moving_vehicle',\n",
       "        'has_previous_injury', 'wearing_functional_head_restraints',\n",
       "        'in_wheelchair', 'roadside_worker', 'making_illegal_turn',\n",
       "        'mentally_handicapped', 'failure_turn_lights_on',\n",
       "        'erratic_lane_change', 'curved_hill', 'traveling_on_closed_road',\n",
       "        'boarding_or_exiting_moving_vehicle', 'in_street',\n",
       "        'heavy_roadside_vegetation'], dtype=object),\n",
       " array(['N/A', 'N/A or Unknown', 'adverse_weather', 'swerved_out_of_lane',\n",
       "        'traveling_on_closed_road', 'not_visible', 'speeding',\n",
       "        'roadside_structure_construction_worker', 'traffic_law_broken',\n",
       "        'failure_to_yield', 'missing_legally_required_equipment',\n",
       "        'on_cellphone', 'has_previous_injury', 'in_wheelchair',\n",
       "        'bad_crossing_or_intersection', 'physical_impairment',\n",
       "        'unconscious_or_too_krunk', 'sightless_or_blind',\n",
       "        'pedestrial_in_middle_of_street', 'driving_incorrect_side_of_road',\n",
       "        'ped_non_vehicle_operator', 'making_illegal_turn'], dtype=object),\n",
       " array([50, 42, 52, 45, 41, 43, 53, 55, 46, 44, 49, 40, 54, 48, 47, 51])]"
      ]
     },
     "execution_count": 20,
     "metadata": {},
     "output_type": "execute_result"
    }
   ],
   "source": [
    "# make sure that we didn't miss obfuscating any\n",
    "[exp.X_train_after[colname].unique() for colname in exp.X_train_after.columns]"
   ]
  },
  {
   "cell_type": "markdown",
   "metadata": {},
   "source": [
    "# write out the datasets"
   ]
  },
  {
   "cell_type": "code",
   "execution_count": 33,
   "metadata": {},
   "outputs": [],
   "source": [
    "! rm final_datasets/*"
   ]
  },
  {
   "cell_type": "code",
   "execution_count": 34,
   "metadata": {},
   "outputs": [],
   "source": [
    "exp.X_train_after.to_csv('./final_datasets/X_train.csv', index=False)\n",
    "exp.y_train_after.to_csv('./final_datasets/y_train.csv', index=False)"
   ]
  },
  {
   "cell_type": "code",
   "execution_count": 35,
   "metadata": {},
   "outputs": [
    {
     "name": "stdout",
     "output_type": "stream",
     "text": [
      "   11174 final_datasets/X_train.csv\r\n",
      "   11173 final_datasets/y_train.csv\r\n",
      "   22347 total\r\n"
     ]
    }
   ],
   "source": [
    "# it's one off because y_train doesn't have a header\n",
    "! wc -l final_datasets/*"
   ]
  },
  {
   "cell_type": "code",
   "execution_count": 36,
   "metadata": {},
   "outputs": [],
   "source": [
    "exp.X_test_1.to_csv('./final_datasets/X_test_1.csv', index=False)\n",
    "exp.X_test_2.to_csv('./final_datasets/X_test_2.csv', index=False)\n",
    "exp.y_test_1.to_csv('./final_datasets/y_test_1.csv', index=False)\n",
    "exp.y_test_2.to_csv('./final_datasets/y_test_2.csv', index=False)"
   ]
  },
  {
   "cell_type": "code",
   "execution_count": 37,
   "metadata": {},
   "outputs": [
    {
     "name": "stdout",
     "output_type": "stream",
     "text": [
      "    4951 final_datasets/X_test_1.csv\r\n",
      "    4951 final_datasets/X_test_2.csv\r\n",
      "   11174 final_datasets/X_train.csv\r\n",
      "    4950 final_datasets/y_test_1.csv\r\n",
      "    4950 final_datasets/y_test_2.csv\r\n",
      "   11173 final_datasets/y_train.csv\r\n",
      "   42149 total\r\n"
     ]
    }
   ],
   "source": [
    "! wc -l final_datasets/*"
   ]
  }
 ],
 "metadata": {
  "kernelspec": {
   "display_name": "Python 3",
   "language": "python",
   "name": "python3"
  },
  "language_info": {
   "codemirror_mode": {
    "name": "ipython",
    "version": 3
   },
   "file_extension": ".py",
   "mimetype": "text/x-python",
   "name": "python",
   "nbconvert_exporter": "python",
   "pygments_lexer": "ipython3",
   "version": "3.6.1"
  }
 },
 "nbformat": 4,
 "nbformat_minor": 1
}
